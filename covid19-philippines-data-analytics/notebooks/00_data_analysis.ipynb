import pandas as pd
import numpy as np
import matplotlib.pyplot as plt

pd.set_option('display.max_columns', None)

# Upload Your CSV Files Here
print("Please upload your CSV files...")
print("Required files:")
print("  - Case_Information.csv")
print("  - Testing_Aggregates_20200513.csv")
print("  - Testing_Lab_Locations.csv")
print()

from google.colab import files
uploaded = files.upload()

# Load Uploaded Data

case = pd.read_csv("Case_Information.csv")
testing = pd.read_csv("Testing_Aggregates_20200513.csv")
labs = pd.read_csv("Testing_Lab_Locations.csv")

print("\nDatasets Loaded!")
print(f"Case Information: {len(case):,} rows")
print(f"Testing Aggregates: {len(testing):,} rows")
print(f"Lab Locations: {len(labs):,} rows")

# Inspect Data

print("\n" + "="*60)
print("CASE INFORMATION PREVIEW")
print("="*60)
display(case.head())

print("\n" + "="*60)
print("CASE INFORMATION STRUCTURE")
print("="*60)
case.info()


# Clean Columns

print("\nCleaning column names...")
case.columns = case.columns.str.lower().str.replace(" ", "_").str.strip()


# Convert Date Columns

print("Converting date columns...")
date_cols = [
    "date_announced",
    "date_of_onset_of_symptoms",
    "date_recovered",
    "date_of_death"
]

for col in date_cols:
    if col in case.columns:
        case[col] = pd.to_datetime(case[col], errors="coerce")


# Normalize Categoricals

print("Normalizing categorical data...")

# Unified gender
case['sex'] = case['sex'].str.upper().replace({
    "FEMALE": "F", "MALE": "M"
})

# Unified status
case['status'] = case['status'].str.capitalize()

# Clean location fields
case['province'] = case['province'].fillna('Unknown').astype(str).str.strip()
case['muni_city'] = case['muni_city'].fillna('Unknown').astype(str).str.strip()


# Missing Value Scan

print("\n" + "="*60)
print("TOP 10 COLUMNS WITH MISSING VALUES")
print("="*60)
print(case.isna().sum().sort_values(ascending=False).head(10))


# Feature Engineering

print("\nEngineering features...")

# Ensure age is numeric
case['age'] = pd.to_numeric(case['age'], errors='coerce')

# Time-based features
case['symptom_to_announce'] = (
    case['date_announced'] - case['date_of_onset_of_symptoms']
).dt.days

case['recovery_time'] = (
    case['date_recovered'] - case['date_of_onset_of_symptoms']
).dt.days

case['death_time'] = (
    case['date_of_death'] - case['date_of_onset_of_symptoms']
).dt.days


# Age Binning

print("Creating age groups...")
bins = [0, 17, 30, 45, 60, 75, 120]
labels = ["0-17", "18-30", "31-45", "46-60", "61-75", "75+"]

case['age_bin'] = pd.cut(case['age'], bins=bins, labels=labels)

print("\nAge Distribution:")
print(case['age_bin'].value_counts().sort_index())


# TIME-SERIES ANALYSIS

print("\n" + "="*60)
print("GENERATING TIME-SERIES VISUALIZATIONS")
print("="*60)

# Daily New Cases
daily_cases = case.groupby("date_announced").size()

plt.figure(figsize=(12,5))
daily_cases.plot(color='steelblue', linewidth=2)
plt.title("PH COVID-19: Daily Confirmed Cases", fontsize=16, fontweight='bold')
plt.xlabel("Date Announced", fontsize=12)
plt.ylabel("Confirmed Cases", fontsize=12)
plt.grid(alpha=0.3)
plt.tight_layout()
plt.show()

# 7-Day Moving Average
daily_ma = daily_cases.rolling(7).mean()

plt.figure(figsize=(12,5))
plt.plot(daily_cases, alpha=0.3, label="Daily Cases", color='lightblue')
plt.plot(daily_ma, linewidth=3, label="7-Day MA", color='darkblue')
plt.legend(fontsize=12)
plt.title("Daily Cases with 7-Day Moving Average", fontsize=16, fontweight='bold')
plt.xlabel("Date", fontsize=12)
plt.ylabel("Cases", fontsize=12)
plt.grid(alpha=0.3)
plt.tight_layout()
plt.show()


# OUTCOME DISTRIBUTION

outcomes = case['status'].value_counts()

plt.figure(figsize=(8,8))
outcomes.plot(kind='pie', autopct='%1.1f%%', startangle=90, colors=['#ff9999','#66b3ff','#99ff99'])
plt.title("Case Outcome Distribution", fontsize=16, fontweight='bold')
plt.ylabel("")
plt.tight_layout()
plt.show()


# DEATHS BY AGE GROUP

age_mortality = case[case['status'] == 'Died'].groupby("age_bin").size()

plt.figure(figsize=(10,6))
age_mortality.plot(kind='bar', color='darkred', alpha=0.7)
plt.title("Deaths by Age Group", fontsize=16, fontweight='bold')
plt.xlabel("Age Cohort", fontsize=12)
plt.ylabel("Number of Deaths", fontsize=12)
plt.xticks(rotation=45)
plt.grid(axis='y', alpha=0.3)
plt.tight_layout()
plt.show()


# TOP 10 PROVINCES

prov = case['province'].value_counts().head(10)

plt.figure(figsize=(12,6))
prov.plot(kind='bar', color='teal', alpha=0.7)
plt.title("Top 10 Provinces by Reported Cases", fontsize=16, fontweight='bold')
plt.xlabel("Province", fontsize=12)
plt.ylabel("Number of Cases", fontsize=12)
plt.xticks(rotation=45, ha='right')
plt.grid(axis='y', alpha=0.3)
plt.tight_layout()
plt.show()


# KEY METRICS

print("\n" + "="*60)
print("KEY METRICS SUMMARY")
print("="*60)

# Safe CFR calculation
def safe_cfr(df):
    died_count = df['status'].value_counts().get('Died', 0)
    return (died_count / len(df)) * 100 if len(df) > 0 else 0

cfr = safe_cfr(case)
print(f"Case Fatality Rate: {cfr:.2f}%")

# Mean Recovery Days
mean_recovery = case['recovery_time'].mean()
print(f"Mean Recovery Time: {mean_recovery:.1f} days")

# Mean Delay Symptom to Announcement
mean_delay = case['symptom_to_announce'].mean()
print(f"Mean Symptom to Announcement Delay: {mean_delay:.1f} days")

# Date Range
print(f"\nDate Range: {case['date_announced'].min()} to {case['date_announced'].max()}")
print(f"Total Cases Analyzed: {len(case):,}")

# Status Breakdown
print("\nStatus Breakdown:")
print(case['status'].value_counts())

# Gender Distribution
print("\nGender Distribution:")
print(case['sex'].value_counts())

print("="*60)

)
print("File ready for download!")
