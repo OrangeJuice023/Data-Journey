
import pandas as pd
import matplotlib.pyplot as plt

#  LOAD DATASETS

# Load CSVs
monthly = pd.read_csv("monthlyinflationph.csv")
yearly = pd.read_csv("inflationyearlyportfolio.csv")

print("✅ Files loaded successfully!")
print("Monthly Data Preview:\n", monthly.head(), "\n")
print("Yearly Data Preview:\n", yearly.head())


# CLEAN & FORMAT DATA

# Clean Monthly Inflation
monthly['Date'] = pd.to_datetime(
    monthly['Month'] + ' ' + monthly['Year'].astype(str),
    format='%B %Y', errors='coerce'
)
monthly.rename(columns={'Inflation Rate': 'InflationRate'}, inplace=True)
monthly = monthly.sort_values('Date')
monthly['InflationRate'] = pd.to_numeric(monthly['InflationRate'], errors='coerce')

# Clean Yearly Inflation
yearly.rename(columns={'Inflation Rate': 'InflationRate'}, inplace=True)
yearly['Year'] = pd.to_numeric(yearly['Year'], errors='coerce')
yearly['InflationRate'] = pd.to_numeric(yearly['InflationRate'], errors='coerce')

print("\n✅ Cleaned data successfully!")


#  VISUALIZE MONTHLY INFLATION

plt.figure(figsize=(12,6))
plt.plot(monthly['Date'], monthly['InflationRate'], color='tab:blue', linewidth=2)
plt.title("📈 Philippine Monthly Inflation Rate (1958–Present)", fontsize=14)
plt.xlabel("Year")
plt.ylabel("Inflation Rate (%)")
plt.grid(True)
plt.show()


#  VISUALIZE YEARLY INFLATION

plt.figure(figsize=(10,5))
plt.bar(yearly['Year'], yearly['InflationRate'], color='orange')
plt.title("💹 Philippine Yearly Inflation Rate", fontsize=14)
plt.xlabel("Year")
plt.ylabel("Inflation Rate (%)")
plt.grid(axis='y', linestyle='--', alpha=0.7)
plt.show()


# SUMMARY STATISTICS

print("\n📊 MONTHLY Inflation Summary:")
print(monthly['InflationRate'].describe())

print("\n📊 YEARLY Inflation Summary:")
print(yearly['InflationRate'].describe())

#  SAVE CLEANED FILES

monthly.to_csv("cleaned_monthly_inflation.csv", index=False)
yearly.to_csv("cleaned_yearly_inflation.csv", index=False)
print("\n✅ Analysis complete! Cleaned datasets saved.")



